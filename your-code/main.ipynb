{
 "cells": [
  {
   "cell_type": "markdown",
   "metadata": {},
   "source": [
    "# Supervised Learning Model Evaluation Lab\n",
    "\n",
    "Complete the exercises below to solidify your knowledge and understanding of supervised learning model evaluation."
   ]
  },
  {
   "cell_type": "code",
   "execution_count": 59,
   "metadata": {},
   "outputs": [],
   "source": [
    "import pandas as pd"
   ]
  },
  {
   "cell_type": "markdown",
   "metadata": {},
   "source": [
    "## Regression Model Evaluation"
   ]
  },
  {
   "cell_type": "code",
   "execution_count": 60,
   "metadata": {},
   "outputs": [],
   "source": [
    "from sklearn.datasets import load_boston\n",
    "\n",
    "data = load_boston()\n",
    "\n",
    "X = pd.DataFrame(data[\"data\"], columns=data[\"feature_names\"])\n",
    "y = pd.DataFrame(data[\"target\"], columns=['MEDV'])\n",
    "\n",
    "data = pd.concat([X, y], axis=1)"
   ]
  },
  {
   "cell_type": "markdown",
   "metadata": {},
   "source": [
    "## 1. Split this data set into training (80%) and testing (20%) sets.\n",
    "\n",
    "The `MEDV` field represents the median value of owner-occupied homes (in $1000's) and is the target variable that we will want to predict."
   ]
  },
  {
   "cell_type": "code",
   "execution_count": 61,
   "metadata": {},
   "outputs": [],
   "source": [
    "from sklearn.model_selection import train_test_split"
   ]
  },
  {
   "cell_type": "code",
   "execution_count": 62,
   "metadata": {},
   "outputs": [],
   "source": [
    "X_train,X_test,y_train,y_test=train_test_split(X,y,test_size=0.2)"
   ]
  },
  {
   "cell_type": "markdown",
   "metadata": {},
   "source": [
    "## 2. Train a `LinearRegression` model on this data set and generate predictions on both the training and the testing set."
   ]
  },
  {
   "cell_type": "code",
   "execution_count": 63,
   "metadata": {},
   "outputs": [],
   "source": [
    "from sklearn.linear_model import LinearRegression"
   ]
  },
  {
   "cell_type": "code",
   "execution_count": 64,
   "metadata": {},
   "outputs": [],
   "source": [
    "linreg=LinearRegression()\n",
    "linreg.fit(X_train,y_train)\n",
    "y_pred=linreg.predict(X_train)\n",
    "y_test_pred=linreg.predict(X_test)"
   ]
  },
  {
   "cell_type": "markdown",
   "metadata": {},
   "source": [
    "## 3. Calculate and print R-squared for both the training and the testing set."
   ]
  },
  {
   "cell_type": "code",
   "execution_count": 65,
   "metadata": {},
   "outputs": [],
   "source": [
    "from sklearn.metrics import r2_score"
   ]
  },
  {
   "cell_type": "code",
   "execution_count": 66,
   "metadata": {},
   "outputs": [
    {
     "data": {
      "text/plain": [
       "0.7287068630800579"
      ]
     },
     "execution_count": 66,
     "metadata": {},
     "output_type": "execute_result"
    }
   ],
   "source": [
    "r2_score(y_train,y_pred)"
   ]
  },
  {
   "cell_type": "code",
   "execution_count": 67,
   "metadata": {},
   "outputs": [
    {
     "data": {
      "text/plain": [
       "0.7287068630800579"
      ]
     },
     "execution_count": 67,
     "metadata": {},
     "output_type": "execute_result"
    }
   ],
   "source": [
    "linreg.score(X_train,y_train)"
   ]
  },
  {
   "cell_type": "code",
   "execution_count": 68,
   "metadata": {},
   "outputs": [
    {
     "data": {
      "text/plain": [
       "0.7638217258327266"
      ]
     },
     "execution_count": 68,
     "metadata": {},
     "output_type": "execute_result"
    }
   ],
   "source": [
    "r2_score(y_test,y_test_pred)"
   ]
  },
  {
   "cell_type": "code",
   "execution_count": 69,
   "metadata": {},
   "outputs": [
    {
     "data": {
      "text/plain": [
       "0.7638217258327266"
      ]
     },
     "execution_count": 69,
     "metadata": {},
     "output_type": "execute_result"
    }
   ],
   "source": [
    "linreg.score(X_test,y_test)"
   ]
  },
  {
   "cell_type": "markdown",
   "metadata": {},
   "source": [
    "## 4. Calculate and print mean squared error for both the training and the testing set."
   ]
  },
  {
   "cell_type": "code",
   "execution_count": 70,
   "metadata": {},
   "outputs": [],
   "source": [
    "from sklearn.metrics import mean_squared_error"
   ]
  },
  {
   "cell_type": "code",
   "execution_count": 71,
   "metadata": {},
   "outputs": [
    {
     "data": {
      "text/plain": [
       "21.147213988864006"
      ]
     },
     "execution_count": 71,
     "metadata": {},
     "output_type": "execute_result"
    }
   ],
   "source": [
    "mean_squared_error(y_train,y_pred)"
   ]
  },
  {
   "cell_type": "code",
   "execution_count": 72,
   "metadata": {},
   "outputs": [
    {
     "data": {
      "text/plain": [
       "25.989936261182965"
      ]
     },
     "execution_count": 72,
     "metadata": {},
     "output_type": "execute_result"
    }
   ],
   "source": [
    "mean_squared_error(y_test,y_test_pred)"
   ]
  },
  {
   "cell_type": "markdown",
   "metadata": {},
   "source": [
    "## 5. Calculate and print mean absolute error for both the training and the testing set."
   ]
  },
  {
   "cell_type": "code",
   "execution_count": 73,
   "metadata": {},
   "outputs": [],
   "source": [
    "from sklearn.metrics import mean_absolute_error"
   ]
  },
  {
   "cell_type": "code",
   "execution_count": 74,
   "metadata": {},
   "outputs": [
    {
     "data": {
      "text/plain": [
       "3.239483768283809"
      ]
     },
     "execution_count": 74,
     "metadata": {},
     "output_type": "execute_result"
    }
   ],
   "source": [
    "mean_absolute_error(y_train,y_pred)"
   ]
  },
  {
   "cell_type": "code",
   "execution_count": 75,
   "metadata": {},
   "outputs": [
    {
     "data": {
      "text/plain": [
       "3.3643763512930756"
      ]
     },
     "execution_count": 75,
     "metadata": {},
     "output_type": "execute_result"
    }
   ],
   "source": [
    "mean_absolute_error(y_test,y_test_pred)"
   ]
  },
  {
   "cell_type": "markdown",
   "metadata": {},
   "source": [
    "## Classification Model Evaluation"
   ]
  },
  {
   "cell_type": "code",
   "execution_count": 76,
   "metadata": {},
   "outputs": [],
   "source": [
    "from sklearn.datasets import load_iris\n",
    "\n",
    "data = load_iris()\n",
    "\n",
    "X = pd.DataFrame(data[\"data\"], columns=data[\"feature_names\"])\n",
    "y = pd.DataFrame(data[\"target\"], columns=[\"class\"])\n",
    "\n",
    "data = pd.concat([X, y], axis=1)"
   ]
  },
  {
   "cell_type": "markdown",
   "metadata": {},
   "source": [
    "## 6. Split this data set into training (80%) and testing (20%) sets.\n",
    "\n",
    "The `class` field represents the type of flower and is the target variable that we will want to predict."
   ]
  },
  {
   "cell_type": "code",
   "execution_count": 77,
   "metadata": {},
   "outputs": [],
   "source": [
    "X_train_iris,X_test_iris,y_train_iris,y_test_iris=train_test_split(X,y['class'],test_size=0.2)"
   ]
  },
  {
   "cell_type": "markdown",
   "metadata": {},
   "source": [
    "## 7. Train a `LogisticRegression` model on this data set and generate predictions on both the training and the testing set."
   ]
  },
  {
   "cell_type": "code",
   "execution_count": 78,
   "metadata": {},
   "outputs": [],
   "source": [
    "from sklearn.linear_model import LogisticRegression"
   ]
  },
  {
   "cell_type": "code",
   "execution_count": 79,
   "metadata": {},
   "outputs": [],
   "source": [
    "logreg=LogisticRegression(max_iter=1000)\n",
    "logreg.fit(X_train_iris.values,y_train_iris.values)\n",
    "y_pred_iris=logreg.predict(X_train_iris)\n",
    "y_test_pred_iris=logreg.predict(X_test_iris)"
   ]
  },
  {
   "cell_type": "markdown",
   "metadata": {},
   "source": [
    "## 8. Calculate and print the accuracy score for both the training and the testing set."
   ]
  },
  {
   "cell_type": "code",
   "execution_count": 80,
   "metadata": {},
   "outputs": [],
   "source": [
    "from sklearn.metrics import accuracy_score"
   ]
  },
  {
   "cell_type": "code",
   "execution_count": 81,
   "metadata": {},
   "outputs": [
    {
     "data": {
      "text/plain": [
       "0.9916666666666667"
      ]
     },
     "execution_count": 81,
     "metadata": {},
     "output_type": "execute_result"
    }
   ],
   "source": [
    "accuracy_score(y_train_iris,y_pred_iris)"
   ]
  },
  {
   "cell_type": "code",
   "execution_count": 82,
   "metadata": {},
   "outputs": [
    {
     "data": {
      "text/plain": [
       "0.9333333333333333"
      ]
     },
     "execution_count": 82,
     "metadata": {},
     "output_type": "execute_result"
    }
   ],
   "source": [
    "accuracy_score(y_test_iris,y_test_pred_iris)"
   ]
  },
  {
   "cell_type": "markdown",
   "metadata": {},
   "source": [
    "## 9. Calculate and print the balanced accuracy score for both the training and the testing set."
   ]
  },
  {
   "cell_type": "code",
   "execution_count": 83,
   "metadata": {},
   "outputs": [],
   "source": [
    "from sklearn.metrics import balanced_accuracy_score"
   ]
  },
  {
   "cell_type": "code",
   "execution_count": 84,
   "metadata": {},
   "outputs": [
    {
     "data": {
      "text/plain": [
       "0.990990990990991"
      ]
     },
     "execution_count": 84,
     "metadata": {},
     "output_type": "execute_result"
    }
   ],
   "source": [
    "balanced_accuracy_score(y_train_iris,y_pred_iris)"
   ]
  },
  {
   "cell_type": "code",
   "execution_count": 85,
   "metadata": {},
   "outputs": [
    {
     "data": {
      "text/plain": [
       "0.9487179487179488"
      ]
     },
     "execution_count": 85,
     "metadata": {},
     "output_type": "execute_result"
    }
   ],
   "source": [
    "balanced_accuracy_score(y_test_iris,y_test_pred_iris)"
   ]
  },
  {
   "cell_type": "markdown",
   "metadata": {},
   "source": [
    "## 10. Calculate and print the precision score for both the training and the testing set."
   ]
  },
  {
   "cell_type": "code",
   "execution_count": 86,
   "metadata": {},
   "outputs": [],
   "source": [
    "from sklearn.metrics import precision_score"
   ]
  },
  {
   "cell_type": "code",
   "execution_count": 87,
   "metadata": {},
   "outputs": [
    {
     "data": {
      "text/plain": [
       "array([1.        , 1.        , 0.97619048])"
      ]
     },
     "execution_count": 87,
     "metadata": {},
     "output_type": "execute_result"
    }
   ],
   "source": [
    "precision_score(y_train_iris,y_pred_iris,average=None)"
   ]
  },
  {
   "cell_type": "code",
   "execution_count": 88,
   "metadata": {},
   "outputs": [
    {
     "data": {
      "text/plain": [
       "array([1.        , 1.        , 0.81818182])"
      ]
     },
     "execution_count": 88,
     "metadata": {},
     "output_type": "execute_result"
    }
   ],
   "source": [
    "precision_score(y_test_iris,y_test_pred_iris,average=None)"
   ]
  },
  {
   "cell_type": "markdown",
   "metadata": {},
   "source": [
    "## 11. Calculate and print the recall score for both the training and the testing set."
   ]
  },
  {
   "cell_type": "code",
   "execution_count": 89,
   "metadata": {},
   "outputs": [],
   "source": [
    "from sklearn.metrics import recall_score"
   ]
  },
  {
   "cell_type": "code",
   "execution_count": 90,
   "metadata": {},
   "outputs": [
    {
     "data": {
      "text/plain": [
       "array([1.        , 0.97297297, 1.        ])"
      ]
     },
     "execution_count": 90,
     "metadata": {},
     "output_type": "execute_result"
    }
   ],
   "source": [
    "recall_score(y_train_iris,y_pred_iris,average=None)"
   ]
  },
  {
   "cell_type": "code",
   "execution_count": 91,
   "metadata": {},
   "outputs": [
    {
     "data": {
      "text/plain": [
       "array([1.        , 0.84615385, 1.        ])"
      ]
     },
     "execution_count": 91,
     "metadata": {},
     "output_type": "execute_result"
    }
   ],
   "source": [
    "recall_score(y_test_iris,y_test_pred_iris,average=None)"
   ]
  },
  {
   "cell_type": "markdown",
   "metadata": {},
   "source": [
    "## 12. Calculate and print the F1 score for both the training and the testing set."
   ]
  },
  {
   "cell_type": "code",
   "execution_count": 92,
   "metadata": {},
   "outputs": [],
   "source": [
    "from sklearn.metrics import f1_score"
   ]
  },
  {
   "cell_type": "code",
   "execution_count": 93,
   "metadata": {},
   "outputs": [
    {
     "data": {
      "text/plain": [
       "array([1.        , 0.98630137, 0.98795181])"
      ]
     },
     "execution_count": 93,
     "metadata": {},
     "output_type": "execute_result"
    }
   ],
   "source": [
    "f1_score(y_train_iris,y_pred_iris,average=None)"
   ]
  },
  {
   "cell_type": "code",
   "execution_count": 94,
   "metadata": {},
   "outputs": [
    {
     "data": {
      "text/plain": [
       "array([1.        , 0.91666667, 0.9       ])"
      ]
     },
     "execution_count": 94,
     "metadata": {},
     "output_type": "execute_result"
    }
   ],
   "source": [
    "f1_score(y_test_iris,y_test_pred_iris,average=None)"
   ]
  },
  {
   "cell_type": "markdown",
   "metadata": {},
   "source": [
    "## 13. Generate confusion matrices for both the training and the testing set."
   ]
  },
  {
   "cell_type": "code",
   "execution_count": 95,
   "metadata": {},
   "outputs": [],
   "source": [
    "from sklearn.metrics import confusion_matrix,plot_confusion_matrix"
   ]
  },
  {
   "cell_type": "code",
   "execution_count": 96,
   "metadata": {},
   "outputs": [
    {
     "name": "stdout",
     "output_type": "stream",
     "text": [
      "[[42  0  0]\n",
      " [ 0 36  1]\n",
      " [ 0  0 41]]\n"
     ]
    },
    {
     "data": {
      "image/png": "[encoded data removed]",
      "text/plain": [
       "<Figure size 432x288 with 2 Axes>"
      ]
     },
     "metadata": {
      "needs_background": "light"
     },
     "output_type": "display_data"
    }
   ],
   "source": [
    "print(confusion_matrix(y_train_iris,y_pred_iris))\n",
    "plot_confusion_matrix(logreg,X_train_iris,y_train_iris);"
   ]
  },
  {
   "cell_type": "code",
   "execution_count": 97,
   "metadata": {},
   "outputs": [
    {
     "name": "stdout",
     "output_type": "stream",
     "text": [
      "[[ 8  0  0]\n",
      " [ 0 11  2]\n",
      " [ 0  0  9]]\n"
     ]
    },
    {
     "data": {
      "image/png": "[encoded data removed]",
      "text/plain": [
       "<Figure size 432x288 with 2 Axes>"
      ]
     },
     "metadata": {
      "needs_background": "light"
     },
     "output_type": "display_data"
    }
   ],
   "source": [
    "print(confusion_matrix(y_test_iris,y_test_pred_iris))\n",
    "plot_confusion_matrix(logreg,X_test_iris,y_test_iris);"
   ]
  },
  {
   "cell_type": "markdown",
   "metadata": {},
   "source": [
    "## Bonus: For each of the data sets in this lab, try training with some of the other models you have learned about, recalculate the evaluation metrics, and compare to determine which models perform best on each data set."
   ]
  },
  {
   "cell_type": "code",
   "execution_count": 98,
   "metadata": {},
   "outputs": [],
   "source": [
    "from sklearn.svm import LinearSVC,SVC\n",
    "from sklearn.multiclass import OneVsOneClassifier\n",
    "from sklearn.linear_model import Ridge\n",
    "from sklearn.tree import DecisionTreeClassifier\n",
    "from sklearn.discriminant_analysis import  LinearDiscriminantAnalysis\n",
    "from sklearn.naive_bayes import GaussianNB\n",
    "from sklearn.neighbors import KNeighborsClassifier\n",
    "from sklearn.ensemble import RandomForestClassifier"
   ]
  },
  {
   "cell_type": "code",
   "execution_count": 99,
   "metadata": {},
   "outputs": [
    {
     "name": "stdout",
     "output_type": "stream",
     "text": [
      "Train r^2: 0.7259236658296437,Test r^2:0.7636189522717778\n",
      "Train msr: 21.364163331910213,Test msr:26.01225021848109\n",
      "Train mae: 3.2328913801191543,Test mae:3.2328913801191543\n"
     ]
    }
   ],
   "source": [
    "#Similar to linreg\n",
    "rr=Ridge()\n",
    "rr.fit(X_train,y_train)\n",
    "y_predrr=rr.predict(X_train)\n",
    "y_test_predrr=rr.predict(X_test)\n",
    "print(f'Train r^2: {r2_score(y_train,y_predrr)},Test r^2:{r2_score(y_test,y_test_predrr)}')\n",
    "print(f'Train msr: {mean_squared_error(y_train,y_predrr)},Test msr:{mean_squared_error(y_test,y_test_predrr)}')\n",
    "print(f'Train mae: {mean_absolute_error(y_train,y_predrr)},Test mae:{mean_absolute_error(y_train,y_predrr)}')"
   ]
  },
  {
   "cell_type": "code",
   "execution_count": 100,
   "metadata": {},
   "outputs": [
    {
     "name": "stdout",
     "output_type": "stream",
     "text": [
      "CART\n",
      "Train as: 1.0, Test as: 0.9333333333333333\n",
      "Train bas: 1.0, Test bas: 0.9487179487179488\n",
      "Train ps: [1. 1. 1.], Test ps: [1.         1.         0.81818182]\n",
      "Train rs: [1. 1. 1.], Test rs: [1.         0.84615385 1.        ]\n",
      "Train f1s: [1. 1. 1.], Test f1s: [1.         0.91666667 0.9       ]\n",
      "Train conf_matrix:\n",
      " [[42  0  0]\n",
      " [ 0 37  0]\n",
      " [ 0  0 41]]\n",
      "Test conf_matriz: \n",
      "[[ 8  0  0]\n",
      " [ 0 11  2]\n",
      " [ 0  0  9]]\n",
      "Train\n",
      "Test\n"
     ]
    },
    {
     "data": {
      "image/png": "[encoded data removed]",
      "text/plain": [
       "<Figure size 432x288 with 2 Axes>"
      ]
     },
     "metadata": {
      "needs_background": "light"
     },
     "output_type": "display_data"
    },
    {
     "data": {
      "image/png": "[encoded data removed]",
      "text/plain": [
       "<Figure size 432x288 with 2 Axes>"
      ]
     },
     "metadata": {
      "needs_background": "light"
     },
     "output_type": "display_data"
    }
   ],
   "source": [
    "cart=DecisionTreeClassifier()\n",
    "cart.fit(X_train_iris,y_train_iris)\n",
    "y_pred_iris_cart=cart.predict(X_train_iris)\n",
    "y_test_pred_iris_cart=cart.predict(X_test_iris)\n",
    "print('CART')\n",
    "print(f'Train as: {accuracy_score(y_train_iris,y_pred_iris_cart)}, Test as: {accuracy_score(y_test_iris,y_test_pred_iris_cart)}')\n",
    "print(f'Train bas: {balanced_accuracy_score(y_train_iris,y_pred_iris_cart)}, Test bas: {balanced_accuracy_score(y_test_iris,y_test_pred_iris_cart)}')\n",
    "print(f'Train ps: {precision_score(y_train_iris,y_pred_iris_cart,average=None)}, Test ps: {precision_score(y_test_iris,y_test_pred_iris_cart,average=None)}')\n",
    "print(f'Train rs: {recall_score(y_train_iris,y_pred_iris_cart,average=None)}, Test rs: {recall_score(y_test_iris,y_test_pred_iris_cart,average=None)}')\n",
    "print(f'Train f1s: {f1_score(y_train_iris,y_pred_iris_cart,average=None)}, Test f1s: {f1_score(y_test_iris,y_test_pred_iris_cart,average=None)}')\n",
    "print(f'Train conf_matrix:\\n {confusion_matrix(y_train_iris,y_pred_iris_cart)}\\nTest conf_matriz: \\n{confusion_matrix(y_test_iris,y_test_pred_iris_cart)}')\n",
    "print('Train')\n",
    "plot_confusion_matrix(cart,X_train_iris,y_train_iris);\n",
    "print('Test')\n",
    "plot_confusion_matrix(cart,X_test_iris,y_test_iris);"
   ]
  },
  {
   "cell_type": "code",
   "execution_count": 101,
   "metadata": {},
   "outputs": [
    {
     "name": "stdout",
     "output_type": "stream",
     "text": [
      "LDA\n",
      "Train as: 0.9833333333333333, Test as: 0.9666666666666667\n",
      "Train bas: 0.9828609096901779, Test bas: 0.9743589743589745\n",
      "Train ps: [1.         0.97297297 0.97560976], Test ps: [1.  1.  0.9]\n",
      "Train rs: [1.         0.97297297 0.97560976], Test rs: [1.         0.92307692 1.        ]\n",
      "Train f1s: [1.         0.97297297 0.97560976], Test f1s: [1.         0.96       0.94736842]\n",
      "Train conf_matrix:\n",
      " [[42  0  0]\n",
      " [ 0 36  1]\n",
      " [ 0  1 40]]\n",
      "Test conf_matriz: \n",
      "[[ 8  0  0]\n",
      " [ 0 12  1]\n",
      " [ 0  0  9]]\n",
      "Train\n",
      "Test\n"
     ]
    },
    {
     "data": {
      "image/png": "[encoded data removed]",
      "text/plain": [
       "<Figure size 432x288 with 2 Axes>"
      ]
     },
     "metadata": {
      "needs_background": "light"
     },
     "output_type": "display_data"
    },
    {
     "data": {
      "image/png": "[encoded data removed]",
      "text/plain": [
       "<Figure size 432x288 with 2 Axes>"
      ]
     },
     "metadata": {
      "needs_background": "light"
     },
     "output_type": "display_data"
    }
   ],
   "source": [
    "lda=LinearDiscriminantAnalysis()\n",
    "lda.fit(X_train_iris,y_train_iris)\n",
    "y_pred_iris_lda=lda.predict(X_train_iris)\n",
    "y_test_pred_iris_lda=lda.predict(X_test_iris)\n",
    "print('LDA')\n",
    "print(f'Train as: {accuracy_score(y_train_iris,y_pred_iris_lda)}, Test as: {accuracy_score(y_test_iris,y_test_pred_iris_lda)}')\n",
    "print(f'Train bas: {balanced_accuracy_score(y_train_iris,y_pred_iris_lda)}, Test bas: {balanced_accuracy_score(y_test_iris,y_test_pred_iris_lda)}')\n",
    "print(f'Train ps: {precision_score(y_train_iris,y_pred_iris_lda,average=None)}, Test ps: {precision_score(y_test_iris,y_test_pred_iris_lda,average=None)}')\n",
    "print(f'Train rs: {recall_score(y_train_iris,y_pred_iris_lda,average=None)}, Test rs: {recall_score(y_test_iris,y_test_pred_iris_lda,average=None)}')\n",
    "print(f'Train f1s: {f1_score(y_train_iris,y_pred_iris_lda,average=None)}, Test f1s: {f1_score(y_test_iris,y_test_pred_iris_lda,average=None)}')\n",
    "print(f'Train conf_matrix:\\n {confusion_matrix(y_train_iris,y_pred_iris_lda)}\\nTest conf_matriz: \\n{confusion_matrix(y_test_iris,y_test_pred_iris_lda)}')\n",
    "print('Train')\n",
    "plot_confusion_matrix(lda,X_train_iris,y_train_iris);\n",
    "print('Test')\n",
    "plot_confusion_matrix(lda,X_test_iris,y_test_iris);"
   ]
  },
  {
   "cell_type": "code",
   "execution_count": 102,
   "metadata": {},
   "outputs": [
    {
     "name": "stdout",
     "output_type": "stream",
     "text": [
      "NB\n",
      "Train as: 0.9583333333333334, Test as: 0.9333333333333333\n",
      "Train bas: 0.957591738079543, Test bas: 0.9487179487179488\n",
      "Train ps: [1.         0.92105263 0.95      ], Test ps: [1.         1.         0.81818182]\n",
      "Train rs: [1.         0.94594595 0.92682927], Test rs: [1.         0.84615385 1.        ]\n",
      "Train f1s: [1.         0.93333333 0.9382716 ], Test f1s: [1.         0.91666667 0.9       ]\n",
      "Train conf_matrix:\n",
      " [[42  0  0]\n",
      " [ 0 35  2]\n",
      " [ 0  3 38]]\n",
      "Test conf_matriz: \n",
      "[[ 8  0  0]\n",
      " [ 0 11  2]\n",
      " [ 0  0  9]]\n",
      "Train\n",
      "Test\n"
     ]
    },
    {
     "data": {
      "image/png": "[encoded data removed]",
      "text/plain": [
       "<Figure size 432x288 with 2 Axes>"
      ]
     },
     "metadata": {
      "needs_background": "light"
     },
     "output_type": "display_data"
    },
    {
     "data": {
      "image/png": "[encoded data removed]",
      "text/plain": [
       "<Figure size 432x288 with 2 Axes>"
      ]
     },
     "metadata": {
      "needs_background": "light"
     },
     "output_type": "display_data"
    }
   ],
   "source": [
    "nb=GaussianNB()\n",
    "nb.fit(X_train_iris,y_train_iris)\n",
    "y_pred_iris_nb=nb.predict(X_train_iris)\n",
    "y_test_pred_iris_nb=nb.predict(X_test_iris)\n",
    "print('NB')\n",
    "print(f'Train as: {accuracy_score(y_train_iris,y_pred_iris_nb)}, Test as: {accuracy_score(y_test_iris,y_test_pred_iris_nb)}')\n",
    "print(f'Train bas: {balanced_accuracy_score(y_train_iris,y_pred_iris_nb)}, Test bas: {balanced_accuracy_score(y_test_iris,y_test_pred_iris_nb)}')\n",
    "print(f'Train ps: {precision_score(y_train_iris,y_pred_iris_nb,average=None)}, Test ps: {precision_score(y_test_iris,y_test_pred_iris_nb,average=None)}')\n",
    "print(f'Train rs: {recall_score(y_train_iris,y_pred_iris_nb,average=None)}, Test rs: {recall_score(y_test_iris,y_test_pred_iris_nb,average=None)}')\n",
    "print(f'Train f1s: {f1_score(y_train_iris,y_pred_iris_nb,average=None)}, Test f1s: {f1_score(y_test_iris,y_test_pred_iris_nb,average=None)}')\n",
    "print(f'Train conf_matrix:\\n {confusion_matrix(y_train_iris,y_pred_iris_nb)}\\nTest conf_matriz: \\n{confusion_matrix(y_test_iris,y_test_pred_iris_nb)}')\n",
    "print('Train')\n",
    "plot_confusion_matrix(nb,X_train_iris,y_train_iris);\n",
    "print('Test')\n",
    "plot_confusion_matrix(nb,X_test_iris,y_test_iris);"
   ]
  },
  {
   "cell_type": "code",
   "execution_count": 103,
   "metadata": {},
   "outputs": [
    {
     "name": "stdout",
     "output_type": "stream",
     "text": [
      "KNN\n",
      "Train as: 0.975, Test as: 0.9666666666666667\n",
      "Train bas: 0.973851900681169, Test bas: 0.9743589743589745\n",
      "Train ps: [1.         0.97222222 0.95238095], Test ps: [1.  1.  0.9]\n",
      "Train rs: [1.         0.94594595 0.97560976], Test rs: [1.         0.92307692 1.        ]\n",
      "Train f1s: [1.         0.95890411 0.96385542], Test f1s: [1.         0.96       0.94736842]\n",
      "Train conf_matrix:\n",
      " [[42  0  0]\n",
      " [ 0 35  2]\n",
      " [ 0  1 40]]\n",
      "Test conf_matriz: \n",
      "[[ 8  0  0]\n",
      " [ 0 12  1]\n",
      " [ 0  0  9]]\n",
      "Train\n",
      "Test\n"
     ]
    },
    {
     "data": {
      "image/png": "[encoded data removed]",
      "text/plain": [
       "<Figure size 432x288 with 2 Axes>"
      ]
     },
     "metadata": {
      "needs_background": "light"
     },
     "output_type": "display_data"
    },
    {
     "data": {
      "image/png": "[encoded data removed]",
      "text/plain": [
       "<Figure size 432x288 with 2 Axes>"
      ]
     },
     "metadata": {
      "needs_background": "light"
     },
     "output_type": "display_data"
    }
   ],
   "source": [
    "knn=KNeighborsClassifier()\n",
    "knn.fit(X_train_iris,y_train_iris)\n",
    "y_pred_iris_knn=knn.predict(X_train_iris)\n",
    "y_test_pred_iris_knn=knn.predict(X_test_iris)\n",
    "print('KNN')\n",
    "print(f'Train as: {accuracy_score(y_train_iris,y_pred_iris_knn)}, Test as: {accuracy_score(y_test_iris,y_test_pred_iris_knn)}')\n",
    "print(f'Train bas: {balanced_accuracy_score(y_train_iris,y_pred_iris_knn)}, Test bas: {balanced_accuracy_score(y_test_iris,y_test_pred_iris_knn)}')\n",
    "print(f'Train ps: {precision_score(y_train_iris,y_pred_iris_knn,average=None)}, Test ps: {precision_score(y_test_iris,y_test_pred_iris_knn,average=None)}')\n",
    "print(f'Train rs: {recall_score(y_train_iris,y_pred_iris_knn,average=None)}, Test rs: {recall_score(y_test_iris,y_test_pred_iris_knn,average=None)}')\n",
    "print(f'Train f1s: {f1_score(y_train_iris,y_pred_iris_knn,average=None)}, Test f1s: {f1_score(y_test_iris,y_test_pred_iris_knn,average=None)}')\n",
    "print(f'Train conf_matrix:\\n {confusion_matrix(y_train_iris,y_pred_iris_knn)}\\nTest conf_matriz: \\n{confusion_matrix(y_test_iris,y_test_pred_iris_knn)}')\n",
    "print('Train')\n",
    "plot_confusion_matrix(knn,X_train_iris,y_train_iris);\n",
    "print('Test')\n",
    "plot_confusion_matrix(knn,X_test_iris,y_test_iris);"
   ]
  },
  {
   "cell_type": "code",
   "execution_count": 104,
   "metadata": {},
   "outputs": [
    {
     "name": "stdout",
     "output_type": "stream",
     "text": [
      "RFC\n",
      "Train as: 1.0, Test as: 0.9333333333333333\n",
      "Train bas: 1.0, Test bas: 0.9487179487179488\n",
      "Train ps: [1. 1. 1.], Test ps: [1.         1.         0.81818182]\n",
      "Train rs: [1. 1. 1.], Test rs: [1.         0.84615385 1.        ]\n",
      "Train f1s: [1. 1. 1.], Test f1s: [1.         0.91666667 0.9       ]\n",
      "Train conf_matrix:\n",
      " [[42  0  0]\n",
      " [ 0 37  0]\n",
      " [ 0  0 41]]\n",
      "Test conf_matriz: \n",
      "[[ 8  0  0]\n",
      " [ 0 11  2]\n",
      " [ 0  0  9]]\n",
      "Train\n",
      "Test\n"
     ]
    },
    {
     "data": {
      "image/png": "[encoded data removed]",
      "text/plain": [
       "<Figure size 432x288 with 2 Axes>"
      ]
     },
     "metadata": {
      "needs_background": "light"
     },
     "output_type": "display_data"
    },
    {
     "data": {
      "image/png": "[encoded data removed]",
      "text/plain": [
       "<Figure size 432x288 with 2 Axes>"
      ]
     },
     "metadata": {
      "needs_background": "light"
     },
     "output_type": "display_data"
    }
   ],
   "source": [
    "rfc=RandomForestClassifier(n_estimators=100,max_depth=4)\n",
    "rfc.fit(X_train_iris,y_train_iris)\n",
    "y_pred_iris_rfc=rfc.predict(X_train_iris)\n",
    "y_test_pred_iris_rfc=rfc.predict(X_test_iris)\n",
    "print('RFC')\n",
    "print(f'Train as: {accuracy_score(y_train_iris,y_pred_iris_rfc)}, Test as: {accuracy_score(y_test_iris,y_test_pred_iris_rfc)}')\n",
    "print(f'Train bas: {balanced_accuracy_score(y_train_iris,y_pred_iris_rfc)}, Test bas: {balanced_accuracy_score(y_test_iris,y_test_pred_iris_rfc)}')\n",
    "print(f'Train ps: {precision_score(y_train_iris,y_pred_iris_rfc,average=None)}, Test ps: {precision_score(y_test_iris,y_test_pred_iris_rfc,average=None)}')\n",
    "print(f'Train rs: {recall_score(y_train_iris,y_pred_iris_rfc,average=None)}, Test rs: {recall_score(y_test_iris,y_test_pred_iris_rfc,average=None)}')\n",
    "print(f'Train f1s: {f1_score(y_train_iris,y_pred_iris_rfc,average=None)}, Test f1s: {f1_score(y_test_iris,y_test_pred_iris_rfc,average=None)}')\n",
    "print(f'Train conf_matrix:\\n {confusion_matrix(y_train_iris,y_pred_iris_rfc)}\\nTest conf_matriz: \\n{confusion_matrix(y_test_iris,y_test_pred_iris_rfc)}')\n",
    "print('Train')\n",
    "plot_confusion_matrix(rfc,X_train_iris,y_train_iris);\n",
    "print('Test')\n",
    "plot_confusion_matrix(rfc,X_test_iris,y_test_iris);"
   ]
  },
  {
   "cell_type": "code",
   "execution_count": 105,
   "metadata": {},
   "outputs": [
    {
     "name": "stdout",
     "output_type": "stream",
     "text": [
      "Linear SVC\n",
      "Train as: 0.975, Test as: 0.9333333333333333\n",
      "Train bas: 0.973851900681169, Test bas: 0.9487179487179488\n",
      "Train ps: [1.         0.97222222 0.95238095], Test ps: [1.         1.         0.81818182]\n",
      "Train rs: [1.         0.94594595 0.97560976], Test rs: [1.         0.84615385 1.        ]\n",
      "Train f1s: [1.         0.95890411 0.96385542], Test f1s: [1.         0.91666667 0.9       ]\n",
      "Train conf_matrix:\n",
      " [[42  0  0]\n",
      " [ 0 35  2]\n",
      " [ 0  1 40]]\n",
      "Test conf_matriz: \n",
      "[[ 8  0  0]\n",
      " [ 0 11  2]\n",
      " [ 0  0  9]]\n",
      "Train\n",
      "Test\n"
     ]
    },
    {
     "data": {
      "image/png": "[encoded data removed]",
      "text/plain": [
       "<Figure size 432x288 with 2 Axes>"
      ]
     },
     "metadata": {
      "needs_background": "light"
     },
     "output_type": "display_data"
    },
    {
     "data": {
      "image/png": "[encoded data removed]",
      "text/plain": [
       "<Figure size 432x288 with 2 Axes>"
      ]
     },
     "metadata": {
      "needs_background": "light"
     },
     "output_type": "display_data"
    }
   ],
   "source": [
    "svc = SVC()\n",
    "svc.fit(X_train_iris,y_train_iris)\n",
    "y_pred_iris_svc=svc.predict(X_train_iris)\n",
    "y_test_pred_iris_svc=svc.predict(X_test_iris)\n",
    "print('Linear SVC')\n",
    "print(f'Train as: {accuracy_score(y_train_iris,y_pred_iris_svc)}, Test as: {accuracy_score(y_test_iris,y_test_pred_iris_svc)}')\n",
    "print(f'Train bas: {balanced_accuracy_score(y_train_iris,y_pred_iris_svc)}, Test bas: {balanced_accuracy_score(y_test_iris,y_test_pred_iris_svc)}')\n",
    "print(f'Train ps: {precision_score(y_train_iris,y_pred_iris_svc,average=None)}, Test ps: {precision_score(y_test_iris,y_test_pred_iris_svc,average=None)}')\n",
    "print(f'Train rs: {recall_score(y_train_iris,y_pred_iris_svc,average=None)}, Test rs: {recall_score(y_test_iris,y_test_pred_iris_svc,average=None)}')\n",
    "print(f'Train f1s: {f1_score(y_train_iris,y_pred_iris_svc,average=None)}, Test f1s: {f1_score(y_test_iris,y_test_pred_iris_svc,average=None)}')\n",
    "print(f'Train conf_matrix:\\n {confusion_matrix(y_train_iris,y_pred_iris_svc)}\\nTest conf_matriz: \\n{confusion_matrix(y_test_iris,y_test_pred_iris_svc)}')\n",
    "print('Train')\n",
    "plot_confusion_matrix(svc,X_train_iris,y_train_iris);\n",
    "print('Test')\n",
    "plot_confusion_matrix(svc,X_test_iris,y_test_iris);"
   ]
  },
  {
   "cell_type": "code",
   "execution_count": 111,
   "metadata": {},
   "outputs": [
    {
     "name": "stdout",
     "output_type": "stream",
     "text": [
      "Linear SVC\n",
      "Train as: 0.9833333333333333, Test as: 0.9666666666666667\n",
      "Train bas: 0.981981981981982, Test bas: 0.9743589743589745\n",
      "Train ps: [1.         1.         0.95348837], Test ps: [1.  1.  0.9]\n",
      "Train rs: [1.         0.94594595 1.        ], Test rs: [1.         0.92307692 1.        ]\n",
      "Train f1s: [1.         0.97222222 0.97619048], Test f1s: [1.         0.96       0.94736842]\n",
      "Train conf_matrix:\n",
      " [[42  0  0]\n",
      " [ 0 35  2]\n",
      " [ 0  0 41]]\n",
      "Test conf_matriz: \n",
      "[[ 8  0  0]\n",
      " [ 0 12  1]\n",
      " [ 0  0  9]]\n",
      "Train\n",
      "Test\n"
     ]
    },
    {
     "data": {
      "image/png": "[encoded data removed]",
      "text/plain": [
       "<Figure size 432x288 with 2 Axes>"
      ]
     },
     "metadata": {
      "needs_background": "light"
     },
     "output_type": "display_data"
    },
    {
     "data": {
      "image/png": "[encoded data removed]",
      "text/plain": [
       "<Figure size 432x288 with 2 Axes>"
      ]
     },
     "metadata": {
      "needs_background": "light"
     },
     "output_type": "display_data"
    }
   ],
   "source": [
    "combo = OneVsOneClassifier(LinearSVC(max_iter=10000))\n",
    "combo.fit(X_train_iris,y_train_iris)\n",
    "y_pred_iris_combo=combo.predict(X_train_iris)\n",
    "y_test_pred_iris_combo=combo.predict(X_test_iris)\n",
    "print('Linear SVC')\n",
    "print(f'Train as: {accuracy_score(y_train_iris,y_pred_iris_combo)}, Test as: {accuracy_score(y_test_iris,y_test_pred_iris_combo)}')\n",
    "print(f'Train bas: {balanced_accuracy_score(y_train_iris,y_pred_iris_combo)}, Test bas: {balanced_accuracy_score(y_test_iris,y_test_pred_iris_combo)}')\n",
    "print(f'Train ps: {precision_score(y_train_iris,y_pred_iris_combo,average=None)}, Test ps: {precision_score(y_test_iris,y_test_pred_iris_combo,average=None)}')\n",
    "print(f'Train rs: {recall_score(y_train_iris,y_pred_iris_combo,average=None)}, Test rs: {recall_score(y_test_iris,y_test_pred_iris_combo,average=None)}')\n",
    "print(f'Train f1s: {f1_score(y_train_iris,y_pred_iris_combo,average=None)}, Test f1s: {f1_score(y_test_iris,y_test_pred_iris_combo,average=None)}')\n",
    "print(f'Train conf_matrix:\\n {confusion_matrix(y_train_iris,y_pred_iris_combo)}\\nTest conf_matriz: \\n{confusion_matrix(y_test_iris,y_test_pred_iris_combo)}')\n",
    "print('Train')\n",
    "plot_confusion_matrix(combo,X_train_iris,y_train_iris);\n",
    "print('Test')\n",
    "plot_confusion_matrix(combo,X_test_iris,y_test_iris);"
   ]
  }
 ],
 "metadata": {
  "kernelspec": {
   "display_name": "Python 3",
   "language": "python",
   "name": "python3"
  },
  "language_info": {
   "codemirror_mode": {
    "name": "ipython",
    "version": 3
   },
   "file_extension": ".py",
   "mimetype": "text/x-python",
   "name": "python",
   "nbconvert_exporter": "python",
   "pygments_lexer": "ipython3",
   "version": "3.7.3"
  }
 },
 "nbformat": 4,
 "nbformat_minor": 4
}
