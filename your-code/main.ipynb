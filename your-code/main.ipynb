{
 "cells": [
  {
   "cell_type": "markdown",
   "source": [
    "# Supervised Learning Model Evaluation Lab\n",
    "\n",
    "Complete the exercises below to solidify your knowledge and understanding of supervised learning model evaluation."
   ],
   "metadata": {}
  },
  {
   "cell_type": "code",
   "execution_count": 12,
   "source": [
    "import pandas as pd\r\n",
    "import numpy as np"
   ],
   "outputs": [],
   "metadata": {}
  },
  {
   "cell_type": "markdown",
   "source": [
    "## Regression Model Evaluation"
   ],
   "metadata": {}
  },
  {
   "cell_type": "code",
   "execution_count": 13,
   "source": [
    "from sklearn.datasets import load_boston\r\n",
    "data = load_boston()\r\n",
    "X = pd.DataFrame(data[\"data\"], columns=data[\"feature_names\"])\r\n",
    "y = pd.DataFrame(data[\"target\"], columns=['MEDV'])"
   ],
   "outputs": [],
   "metadata": {}
  },
  {
   "cell_type": "markdown",
   "source": [
    "## 1. Split this data set into training (80%) and testing (20%) sets.\n",
    "\n",
    "The `MEDV` field represents the median value of owner-occupied homes (in $1000's) and is the target variable that we will want to predict."
   ],
   "metadata": {}
  },
  {
   "cell_type": "code",
   "execution_count": 14,
   "source": [
    "from sklearn.model_selection import train_test_split\r\n",
    "X_train, X_test, y_train, y_test = train_test_split(X, y, test_size=0.2)"
   ],
   "outputs": [],
   "metadata": {}
  },
  {
   "cell_type": "markdown",
   "source": [
    "## 2. Train a `LinearRegression` model on this data set and generate predictions on both the training and the testing set."
   ],
   "metadata": {}
  },
  {
   "cell_type": "code",
   "execution_count": 15,
   "source": [
    "from sklearn.linear_model import LinearRegression\r\n",
    "lr_model = LinearRegression().fit(X_train, y_train)\r\n",
    "y_pred_train = lr_model.predict(X_train)\r\n",
    "y_pred_test = lr_model.predict(X_test)"
   ],
   "outputs": [],
   "metadata": {}
  },
  {
   "cell_type": "markdown",
   "source": [
    "## 3. Calculate and print R-squared for both the training and the testing set."
   ],
   "metadata": {}
  },
  {
   "cell_type": "code",
   "execution_count": 16,
   "source": [
    "from sklearn.metrics import r2_score\r\n",
    "pred_train = lr_model.predict(X_train)\r\n",
    "print(r2_score(y_pred_train, pred_train))\r\n",
    "\r\n",
    "pred_test = lr_model.predict(X_test)\r\n",
    "print(r2_score(y_pred_test, pred_test))"
   ],
   "outputs": [
    {
     "output_type": "stream",
     "name": "stdout",
     "text": [
      "1.0\n",
      "1.0\n"
     ]
    }
   ],
   "metadata": {}
  },
  {
   "cell_type": "markdown",
   "source": [
    "## 4. Calculate and print mean squared error for both the training and the testing set."
   ],
   "metadata": {}
  },
  {
   "cell_type": "code",
   "execution_count": 17,
   "source": [
    "from sklearn.metrics import mean_squared_error\r\n",
    "print('train:',mean_squared_error(y_train, y_pred_train))\r\n",
    "print('test:',mean_squared_error(y_test, y_pred_test))"
   ],
   "outputs": [
    {
     "output_type": "stream",
     "name": "stdout",
     "text": [
      "train: 22.107996490504675\n",
      "test: 22.343972911333683\n"
     ]
    }
   ],
   "metadata": {}
  },
  {
   "cell_type": "markdown",
   "source": [
    "## 5. Calculate and print mean absolute error for both the training and the testing set."
   ],
   "metadata": {}
  },
  {
   "cell_type": "code",
   "execution_count": 18,
   "source": [
    "from sklearn.metrics import mean_absolute_error\r\n",
    "print('train:',mean_absolute_error(y_train, y_pred_train))\r\n",
    "print('test:',mean_absolute_error(y_test, y_pred_test))"
   ],
   "outputs": [
    {
     "output_type": "stream",
     "name": "stdout",
     "text": [
      "train: 3.338221736936219\n",
      "test: 3.3782795667530228\n"
     ]
    }
   ],
   "metadata": {}
  },
  {
   "cell_type": "markdown",
   "source": [
    "## Classification Model Evaluation"
   ],
   "metadata": {}
  },
  {
   "cell_type": "code",
   "execution_count": 2,
   "source": [
    "import pandas as pd\r\n",
    "import numpy as np"
   ],
   "outputs": [],
   "metadata": {}
  },
  {
   "cell_type": "code",
   "execution_count": 24,
   "source": [
    "from sklearn.datasets import load_iris\r\n",
    "data = load_iris()\r\n",
    "X = pd.DataFrame(data[\"data\"], columns=data[\"feature_names\"])\r\n",
    "y = pd.DataFrame(data[\"target\"], columns=[\"class\"])"
   ],
   "outputs": [],
   "metadata": {}
  },
  {
   "cell_type": "markdown",
   "source": [
    "## 6. Split this data set into training (80%) and testing (20%) sets.\n",
    "\n",
    "The `class` field represents the type of flower and is the target variable that we will want to predict."
   ],
   "metadata": {}
  },
  {
   "cell_type": "code",
   "execution_count": 27,
   "source": [
    "from sklearn.model_selection import train_test_split\r\n",
    "X_train, X_test, y_train, y_test = train_test_split(X, y, test_size=0.2, random_state=50)"
   ],
   "outputs": [],
   "metadata": {}
  },
  {
   "cell_type": "markdown",
   "source": [
    "## 7. Train a `LogisticRegression` model on this data set and generate predictions on both the training and the testing set."
   ],
   "metadata": {}
  },
  {
   "cell_type": "code",
   "execution_count": 39,
   "source": [
    "from sklearn.linear_model import LogisticRegression\r\n",
    "lr_model = LogisticRegression(max_iter=1000).fit(X_train, y_train.values.ravel())\r\n",
    "y_pred_train = lr_model.predict(X_train)\r\n",
    "y_pred_test = lr_model.predict(X_test)"
   ],
   "outputs": [],
   "metadata": {}
  },
  {
   "cell_type": "markdown",
   "source": [
    "## 8. Calculate and print the accuracy score for both the training and the testing set."
   ],
   "metadata": {}
  },
  {
   "cell_type": "code",
   "execution_count": 40,
   "source": [
    "from sklearn.metrics import accuracy_score\r\n",
    "print('train : ', accuracy_score(y_train, y_pred_train))\r\n",
    "print('test : ', accuracy_score(y_test, y_pred_test))"
   ],
   "outputs": [
    {
     "output_type": "stream",
     "name": "stdout",
     "text": [
      "train :  0.975\n",
      "test :  0.9666666666666667\n"
     ]
    }
   ],
   "metadata": {}
  },
  {
   "cell_type": "markdown",
   "source": [
    "## 9. Calculate and print the balanced accuracy score for both the training and the testing set."
   ],
   "metadata": {}
  },
  {
   "cell_type": "code",
   "execution_count": 41,
   "source": [
    "from sklearn.metrics import balanced_accuracy_score\r\n",
    "print('train : ', balanced_accuracy_score(y_train, y_pred_train))\r\n",
    "print('test : ', balanced_accuracy_score(y_test, y_pred_test))"
   ],
   "outputs": [
    {
     "output_type": "stream",
     "name": "stdout",
     "text": [
      "train :  0.9743260590500641\n",
      "test :  0.9722222222222222\n"
     ]
    }
   ],
   "metadata": {}
  },
  {
   "cell_type": "markdown",
   "source": [
    "## 10. Calculate and print the precision score for both the training and the testing set."
   ],
   "metadata": {}
  },
  {
   "cell_type": "code",
   "execution_count": 43,
   "source": [
    "from sklearn.metrics import precision_score\r\n",
    "print('train : ', precision_score(y_train, y_pred_train, average='weighted'))\r\n",
    "print('test : ', precision_score(y_test, y_pred_test, average='weighted'))"
   ],
   "outputs": [
    {
     "output_type": "stream",
     "name": "stdout",
     "text": [
      "train :  0.9751716001716001\n",
      "test :  0.9700000000000001\n"
     ]
    }
   ],
   "metadata": {}
  },
  {
   "cell_type": "markdown",
   "source": [
    "## 11. Calculate and print the recall score for both the training and the testing set."
   ],
   "metadata": {}
  },
  {
   "cell_type": "code",
   "execution_count": 47,
   "source": [
    "from sklearn.metrics import recall_score\r\n",
    "print('train : ', recall_score(y_train, y_pred_train, average='weighted'))\r\n",
    "print('test : ', recall_score(y_test, y_pred_test, average='weighted'))"
   ],
   "outputs": [
    {
     "output_type": "stream",
     "name": "stdout",
     "text": [
      "train :  0.975\n",
      "test :  0.9666666666666667\n"
     ]
    }
   ],
   "metadata": {}
  },
  {
   "cell_type": "markdown",
   "source": [
    "## 12. Calculate and print the F1 score for both the training and the testing set."
   ],
   "metadata": {}
  },
  {
   "cell_type": "code",
   "execution_count": 48,
   "source": [
    "from sklearn.metrics import f1_score\r\n",
    "print('train : ', f1_score(y_train, y_pred_train, average='weighted'))\r\n",
    "print('test : ', f1_score(y_test, y_pred_test, average='weighted'))"
   ],
   "outputs": [
    {
     "output_type": "stream",
     "name": "stdout",
     "text": [
      "train :  0.9749839357429718\n",
      "test :  0.9668192219679634\n"
     ]
    }
   ],
   "metadata": {}
  },
  {
   "cell_type": "markdown",
   "source": [
    "## 13. Generate confusion matrices for both the training and the testing set."
   ],
   "metadata": {}
  },
  {
   "cell_type": "code",
   "execution_count": 51,
   "source": [
    "from sklearn.metrics import confusion_matrix\r\n",
    "print(confusion_matrix(y_train, y_pred_train))\r\n",
    "print()\r\n",
    "print(confusion_matrix(y_test, y_pred_test))"
   ],
   "outputs": [
    {
     "output_type": "stream",
     "name": "stdout",
     "text": [
      "[[41  0  0]\n",
      " [ 0 36  2]\n",
      " [ 0  1 40]]\n",
      "\n",
      "[[ 9  0  0]\n",
      " [ 0 11  1]\n",
      " [ 0  0  9]]\n"
     ]
    }
   ],
   "metadata": {}
  },
  {
   "cell_type": "code",
   "execution_count": 39,
   "source": [
    "from sklearn.linear_model import LogisticRegression\r\n",
    "lr_model = LogisticRegression(max_iter=1000).fit(X_train, y_train.values.ravel())\r\n",
    "y_pred_train = lr_model.predict(X_train)\r\n",
    "y_pred_test = lr_model.predict(X_test)"
   ],
   "outputs": [],
   "metadata": {}
  },
  {
   "cell_type": "code",
   "execution_count": null,
   "source": [],
   "outputs": [],
   "metadata": {}
  },
  {
   "cell_type": "markdown",
   "source": [
    "## Bonus: For each of the data sets in this lab, try training with some of the other models you have learned about, recalculate the evaluation metrics, and compare to determine which models perform best on each data set."
   ],
   "metadata": {}
  }
 ],
 "metadata": {
  "kernelspec": {
   "name": "python3",
   "display_name": "Python 3.9.6 64-bit"
  },
  "language_info": {
   "codemirror_mode": {
    "name": "ipython",
    "version": 3
   },
   "file_extension": ".py",
   "mimetype": "text/x-python",
   "name": "python",
   "nbconvert_exporter": "python",
   "pygments_lexer": "ipython3",
   "version": "3.9.6"
  },
  "interpreter": {
   "hash": "376f5b0795f81aa7b5d99e448d6274743a66c9892fd26cf11e505993f41df5fa"
  }
 },
 "nbformat": 4,
 "nbformat_minor": 2
}